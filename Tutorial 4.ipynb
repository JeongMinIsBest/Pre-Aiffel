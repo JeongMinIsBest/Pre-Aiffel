{
 "cells": [
  {
   "cell_type": "code",
   "execution_count": null,
   "id": "11edc55f",
   "metadata": {},
   "outputs": [],
   "source": [
    "import re\n",
    "\n",
    "def preprocessing(text):\n",
    "    # 모두 소문자로 바꿔주기 위해 lower() 사용\n",
    "    text = text.lower()\n",
    "    \n",
    "    # 알파벳과 숫자만 남기기 위해 아래와 같이 작성했다.\n",
    "    # [^...] : 괄호 안에 있는 내용은 제외한다.\n",
    "    # a-z : 소문자 알파벳\n",
    "    # 0-9 : 숫자\n",
    "    # 공백 : 띄어쓰기 한 개\n",
    "    text = re.sub(r'[^a-z0-9 ]', '', text)\n",
    "    \n",
    "    # 중복된 공백을 제거하고 하나만 남기기\n",
    "    # 공백 문자(\\s)가 하나 이상 반복(+)된다면 공백 하나로 바꾼다.(' ')\n",
    "    text = re.sub(r'\\s+', ' ', text)\n",
    "\n",
    "    # 앞뒤 공백 제거\n",
    "    return text.strip()\n"
   ]
  },
  {
   "cell_type": "code",
   "execution_count": 2,
   "id": "c8a74dff",
   "metadata": {},
   "outputs": [
    {
     "name": "stdout",
     "output_type": "stream",
     "text": [
      "wow this movie was amazing i couldnt believe how good the actors were the plot was so thrilling\n",
      "worst movie ever i cant believe i spent 15 on this the acting was horrible and the plot nonexistent do not recommend\n"
     ]
    }
   ],
   "source": [
    "message1 = \"WOW!! ThIs mOvIe...    was @@aMAZING@@!!     I couldn't BELIEVE how **good** the actors were.  The plot was    so~~ thrilling.\"\n",
    "message2 = \"Worst movie EVER!!!    I can't believe I spent $15 on this...    the acting was horrIBle, and the plot? non-existent!! :(  do NOT recommend.   :(\"\n",
    "\n",
    "text1 = preprocessing(message1)\n",
    "text2 = preprocessing(message2)\n",
    "\n",
    "print(text1)\n",
    "\n",
    "print(text2)\n"
   ]
  }
 ],
 "metadata": {
  "kernelspec": {
   "display_name": "Python 3",
   "language": "python",
   "name": "python3"
  },
  "language_info": {
   "codemirror_mode": {
    "name": "ipython",
    "version": 3
   },
   "file_extension": ".py",
   "mimetype": "text/x-python",
   "name": "python",
   "nbconvert_exporter": "python",
   "pygments_lexer": "ipython3",
   "version": "3.10.11"
  }
 },
 "nbformat": 4,
 "nbformat_minor": 5
}
