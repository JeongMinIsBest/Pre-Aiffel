{
 "cells": [
  {
   "cell_type": "code",
   "execution_count": null,
   "id": "eae1c94f",
   "metadata": {},
   "outputs": [],
   "source": [
    "import random\n",
    "\n",
    "# 사람 클래스 - 이름, 나이, 성별 속성을 바탕으로 사람을 소개\n",
    "class Person:\n",
    "    def __init__(self, name, age, gender):\n",
    "        self.name = name\n",
    "        self.age = age\n",
    "        self.gender = gender\n",
    "\n",
    "    def introduce(self):\n",
    "        print(f\"{self.name}, {self.age}세, {self.gender}\")\n",
    "\n",
    "# Person 클래스에서 상속 받은 마법사 클래스\n",
    "# 개인에 대한 기숙사 \n",
    "class Wizard(Person):\n",
    "    def __init__(self, name, age, gender, dormitory):\n",
    "        super().__init__(name, age, gender)\n",
    "        self.dormitory = dormitory\n",
    "\n",
    "    def introduce(self):\n",
    "        super().introduce()\n",
    "        print(f\"{self.name}는 {self.dormitory}(으)로 정했다!\")"
   ]
  },
  {
   "cell_type": "code",
   "execution_count": null,
   "id": "a37db674",
   "metadata": {},
   "outputs": [
    {
     "name": "stdout",
     "output_type": "stream",
     "text": [
      "론 위즐리는 슬리데린로 정했다!\n"
     ]
    }
   ],
   "source": [
    "# 마법 모자 프로그램 - 정해진 기숙사 중에서 랜덤하게 선택\n",
    "def sorting_hat():\n",
    "    name = input(\"이름 : \")\n",
    "    age = input(\"나이 : \").replac\n",
    "    gender = input(\"성별 : \")\n",
    "\n",
    "    dormitories = [\"그리핀도르\", \"슬리데린\", \"래번클로\", \"후플푸프\"]\n",
    "    dormitory = random.choice(dormitories)\n",
    "\n",
    "    wizard = Wizard(name, age, gender, dormitory)\n",
    "    wizard.introduce()\n",
    "\n",
    "sorting_hat()"
   ]
  }
 ],
 "metadata": {
  "kernelspec": {
   "display_name": "Python 3",
   "language": "python",
   "name": "python3"
  },
  "language_info": {
   "codemirror_mode": {
    "name": "ipython",
    "version": 3
   },
   "file_extension": ".py",
   "mimetype": "text/x-python",
   "name": "python",
   "nbconvert_exporter": "python",
   "pygments_lexer": "ipython3",
   "version": "3.10.11"
  }
 },
 "nbformat": 4,
 "nbformat_minor": 5
}
