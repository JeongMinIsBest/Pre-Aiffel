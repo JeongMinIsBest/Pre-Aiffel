{
 "cells": [
  {
   "cell_type": "code",
   "execution_count": 14,
   "id": "5dbcae48",
   "metadata": {},
   "outputs": [
    {
     "name": "stdout",
     "output_type": "stream",
     "text": [
      "   id    species  weight  height  age\n",
      "0   1     Lumina      50     120    5\n",
      "1   2     Glimix      80     140    8\n",
      "2   3  Orbitalon      30     110    2\n",
      "3   4     Glimix      85     145    9\n",
      "4   5     Lumina      55     125    6\n",
      "5   6  Shadowine     100     160   15\n",
      "6   7  Orbitalon      28     115    3\n",
      "7   8     Lumina      53     122    4\n",
      "8   9     Glimix      77     135    7\n",
      "9  10  Shadowine     105     155   14\n"
     ]
    }
   ],
   "source": [
    "# 1. 파일 불러오기\n",
    "\n",
    "import pandas as pd\n",
    "\n",
    "creatures = pd.read_csv(\"./creatures.csv\")\n",
    "environments = pd.read_csv(\"./environment.csv\")\n",
    "\n",
    "print(creatures)"
   ]
  },
  {
   "cell_type": "code",
   "execution_count": 15,
   "id": "0557ab50",
   "metadata": {},
   "outputs": [
    {
     "name": "stdout",
     "output_type": "stream",
     "text": [
      "   id  temperature  humidity   habitat\n",
      "0   1           22        60    Forest\n",
      "1   2           35        20    Desert\n",
      "2   3           15        80  Mountain\n",
      "3   4           25        65    Forest\n",
      "4   5           10        90     Swamp\n",
      "5   6           28        50    Forest\n",
      "6   7           15        85  Mountain\n",
      "7   8           20        75     Swamp\n",
      "8   9           30        40    Desert\n",
      "9  10           18        70  Mountain\n"
     ]
    }
   ],
   "source": [
    "print(environments)"
   ]
  },
  {
   "cell_type": "code",
   "execution_count": 7,
   "id": "7fc8da00",
   "metadata": {},
   "outputs": [
    {
     "name": "stdout",
     "output_type": "stream",
     "text": [
      "평균 몸무게와 키 :\n",
      "               weight      height\n",
      "species                          \n",
      "Glimix      80.666667  140.000000\n",
      "Lumina      52.666667  122.333333\n",
      "Orbitalon   29.000000  112.500000\n",
      "Shadowine  102.500000  157.500000\n"
     ]
    }
   ],
   "source": [
    "# 2. 평균 몸무게와 키를 종류 별로 계산\n",
    "\n",
    "avg_weight_height = creatures.groupby('species')[['weight', 'height']].mean()\n",
    "print(\"평균 몸무게와 키 :\")\n",
    "print(avg_weight_height)"
   ]
  },
  {
   "cell_type": "code",
   "execution_count": 20,
   "id": "da0606b7",
   "metadata": {},
   "outputs": [
    {
     "name": "stdout",
     "output_type": "stream",
     "text": [
      "종류 별 나이 중앙값 :\n",
      "species\n",
      "Glimix        8.0\n",
      "Lumina        5.0\n",
      "Orbitalon     2.5\n",
      "Shadowine    14.5\n",
      "Name: age, dtype: float64\n"
     ]
    }
   ],
   "source": [
    "# 3. 종류 별 나이의 중앙값\n",
    "\n",
    "median_age = creatures.groupby('species')['age'].median()\n",
    "print(\"종류 별 나이 중앙값 :\")\n",
    "print(median_age)"
   ]
  },
  {
   "cell_type": "code",
   "execution_count": 9,
   "id": "154ad7ec",
   "metadata": {},
   "outputs": [
    {
     "name": "stdout",
     "output_type": "stream",
     "text": [
      "가장 나이가 많은 생물 :\n",
      "species    Shadowine\n",
      "weight           100\n",
      "height           160\n",
      "age               15\n",
      "Name: 5, dtype: object\n"
     ]
    }
   ],
   "source": [
    "# 4. 나이 내림차순 정렬\n",
    "\n",
    "sorted_by_age = creatures.sort_values(by='age', ascending=False)\n",
    "print(\"가장 나이가 많은 생물 :\")\n",
    "print(sorted_by_age[['species', 'weight', 'height', 'age']].iloc[0])"
   ]
  },
  {
   "cell_type": "code",
   "execution_count": 10,
   "id": "a4bb6172",
   "metadata": {},
   "outputs": [
    {
     "data": {
      "text/html": [
       "<div>\n",
       "<style scoped>\n",
       "    .dataframe tbody tr th:only-of-type {\n",
       "        vertical-align: middle;\n",
       "    }\n",
       "\n",
       "    .dataframe tbody tr th {\n",
       "        vertical-align: top;\n",
       "    }\n",
       "\n",
       "    .dataframe thead th {\n",
       "        text-align: right;\n",
       "    }\n",
       "</style>\n",
       "<table border=\"1\" class=\"dataframe\">\n",
       "  <thead>\n",
       "    <tr style=\"text-align: right;\">\n",
       "      <th></th>\n",
       "      <th>id</th>\n",
       "      <th>species</th>\n",
       "      <th>weight</th>\n",
       "      <th>height</th>\n",
       "      <th>age</th>\n",
       "      <th>temperature</th>\n",
       "      <th>humidity</th>\n",
       "      <th>habitat</th>\n",
       "    </tr>\n",
       "  </thead>\n",
       "  <tbody>\n",
       "    <tr>\n",
       "      <th>0</th>\n",
       "      <td>1</td>\n",
       "      <td>Lumina</td>\n",
       "      <td>50</td>\n",
       "      <td>120</td>\n",
       "      <td>5</td>\n",
       "      <td>22</td>\n",
       "      <td>60</td>\n",
       "      <td>Forest</td>\n",
       "    </tr>\n",
       "    <tr>\n",
       "      <th>1</th>\n",
       "      <td>2</td>\n",
       "      <td>Glimix</td>\n",
       "      <td>80</td>\n",
       "      <td>140</td>\n",
       "      <td>8</td>\n",
       "      <td>35</td>\n",
       "      <td>20</td>\n",
       "      <td>Desert</td>\n",
       "    </tr>\n",
       "    <tr>\n",
       "      <th>2</th>\n",
       "      <td>3</td>\n",
       "      <td>Orbitalon</td>\n",
       "      <td>30</td>\n",
       "      <td>110</td>\n",
       "      <td>2</td>\n",
       "      <td>15</td>\n",
       "      <td>80</td>\n",
       "      <td>Mountain</td>\n",
       "    </tr>\n",
       "    <tr>\n",
       "      <th>3</th>\n",
       "      <td>4</td>\n",
       "      <td>Glimix</td>\n",
       "      <td>85</td>\n",
       "      <td>145</td>\n",
       "      <td>9</td>\n",
       "      <td>25</td>\n",
       "      <td>65</td>\n",
       "      <td>Forest</td>\n",
       "    </tr>\n",
       "    <tr>\n",
       "      <th>4</th>\n",
       "      <td>5</td>\n",
       "      <td>Lumina</td>\n",
       "      <td>55</td>\n",
       "      <td>125</td>\n",
       "      <td>6</td>\n",
       "      <td>10</td>\n",
       "      <td>90</td>\n",
       "      <td>Swamp</td>\n",
       "    </tr>\n",
       "    <tr>\n",
       "      <th>5</th>\n",
       "      <td>6</td>\n",
       "      <td>Shadowine</td>\n",
       "      <td>100</td>\n",
       "      <td>160</td>\n",
       "      <td>15</td>\n",
       "      <td>28</td>\n",
       "      <td>50</td>\n",
       "      <td>Forest</td>\n",
       "    </tr>\n",
       "    <tr>\n",
       "      <th>6</th>\n",
       "      <td>7</td>\n",
       "      <td>Orbitalon</td>\n",
       "      <td>28</td>\n",
       "      <td>115</td>\n",
       "      <td>3</td>\n",
       "      <td>15</td>\n",
       "      <td>85</td>\n",
       "      <td>Mountain</td>\n",
       "    </tr>\n",
       "    <tr>\n",
       "      <th>7</th>\n",
       "      <td>8</td>\n",
       "      <td>Lumina</td>\n",
       "      <td>53</td>\n",
       "      <td>122</td>\n",
       "      <td>4</td>\n",
       "      <td>20</td>\n",
       "      <td>75</td>\n",
       "      <td>Swamp</td>\n",
       "    </tr>\n",
       "    <tr>\n",
       "      <th>8</th>\n",
       "      <td>9</td>\n",
       "      <td>Glimix</td>\n",
       "      <td>77</td>\n",
       "      <td>135</td>\n",
       "      <td>7</td>\n",
       "      <td>30</td>\n",
       "      <td>40</td>\n",
       "      <td>Desert</td>\n",
       "    </tr>\n",
       "    <tr>\n",
       "      <th>9</th>\n",
       "      <td>10</td>\n",
       "      <td>Shadowine</td>\n",
       "      <td>105</td>\n",
       "      <td>155</td>\n",
       "      <td>14</td>\n",
       "      <td>18</td>\n",
       "      <td>70</td>\n",
       "      <td>Mountain</td>\n",
       "    </tr>\n",
       "  </tbody>\n",
       "</table>\n",
       "</div>"
      ],
      "text/plain": [
       "   id    species  weight  height  age  temperature  humidity   habitat\n",
       "0   1     Lumina      50     120    5           22        60    Forest\n",
       "1   2     Glimix      80     140    8           35        20    Desert\n",
       "2   3  Orbitalon      30     110    2           15        80  Mountain\n",
       "3   4     Glimix      85     145    9           25        65    Forest\n",
       "4   5     Lumina      55     125    6           10        90     Swamp\n",
       "5   6  Shadowine     100     160   15           28        50    Forest\n",
       "6   7  Orbitalon      28     115    3           15        85  Mountain\n",
       "7   8     Lumina      53     122    4           20        75     Swamp\n",
       "8   9     Glimix      77     135    7           30        40    Desert\n",
       "9  10  Shadowine     105     155   14           18        70  Mountain"
      ]
     },
     "execution_count": 10,
     "metadata": {},
     "output_type": "execute_result"
    }
   ],
   "source": [
    "# 5. 두 데이터를 id 기준으로 병합\n",
    "\n",
    "merged_df = pd.merge(creatures, environments, on='id')\n",
    "merged_df"
   ]
  },
  {
   "cell_type": "code",
   "execution_count": 21,
   "id": "a86de4ad",
   "metadata": {},
   "outputs": [
    {
     "name": "stdout",
     "output_type": "stream",
     "text": [
      "서식지 별 평균 몸무게와 키\n",
      "             weight      height\n",
      "habitat                        \n",
      "Desert    78.500000  137.500000\n",
      "Forest    78.333333  141.666667\n",
      "Mountain  54.333333  126.666667\n",
      "Swamp     54.000000  123.500000\n"
     ]
    }
   ],
   "source": [
    "# 6. 서식지 별 평균 몸무게와 키 계산\n",
    "\n",
    "avg_habitat_w_h = merged_df.groupby('habitat')[['weight', 'height']].mean()\n",
    "print(\"서식지 별 평균 몸무게와 키\")\n",
    "print(avg_habitat_w_h)"
   ]
  },
  {
   "cell_type": "code",
   "execution_count": 22,
   "id": "1eb5c083",
   "metadata": {},
   "outputs": [
    {
     "name": "stdout",
     "output_type": "stream",
     "text": [
      "습도와 체중 간의 상관계수 :\n",
      "-0.534546293489005\n"
     ]
    }
   ],
   "source": [
    "# 7. 습도와 체중 간의 상관계수\n",
    "\n",
    "humidity_weight_corr = merged_df['humidity'].corr(merged_df['weight'])\n",
    "print(\"습도와 체중 간의 상관계수 :\")\n",
    "print(humidity_weight_corr)"
   ]
  },
  {
   "cell_type": "code",
   "execution_count": 18,
   "id": "653d6dab",
   "metadata": {},
   "outputs": [
    {
     "name": "stdout",
     "output_type": "stream",
     "text": [
      "height / weight 비율이 가장 높은 생물 :\n",
      "species    Orbitalon\n",
      "weight            28\n",
      "height           115\n",
      "age                3\n",
      "ratio       4.107143\n",
      "Name: 6, dtype: object\n"
     ]
    }
   ],
   "source": [
    "# 8. height / weight 비율 중 가장 높은 생물 정보 출력\n",
    "\n",
    "merged_df['ratio'] = merged_df['height'] / merged_df['weight']\n",
    "max_ratio_info = merged_df.loc[merged_df['ratio'].idxmax()]\n",
    "print(\"height / weight 비율이 가장 높은 생물 :\")\n",
    "print(max_ratio_info[['species', 'weight', 'height', 'age', 'ratio']])"
   ]
  },
  {
   "cell_type": "code",
   "execution_count": 23,
   "id": "a8fb0706",
   "metadata": {},
   "outputs": [
    {
     "name": "stdout",
     "output_type": "stream",
     "text": [
      "기온 그룹별 평균 몸무게와 키 :\n",
      "               weight      height\n",
      "temp_group                       \n",
      "0~14°C      55.000000  125.000000\n",
      "15~29°C     64.428571  132.428571\n",
      "30°C 이상     78.500000  137.500000\n"
     ]
    }
   ],
   "source": [
    "# 9. 온도를 기준으로 그룹 나누기 [0 ~ 14 / 15 ~ 29 / 30 이상]\n",
    "\n",
    "def temp_group(temp):\n",
    "    if temp <= 14:\n",
    "        return '0~14°C'\n",
    "    elif temp <= 29:\n",
    "        return '15~29°C'\n",
    "    else:\n",
    "        return '30°C 이상'\n",
    "    \n",
    "merged_df['temp_group'] = merged_df['temperature'].apply(temp_group)\n",
    "\n",
    "avg_by_temp_group = merged_df.groupby('temp_group')[['weight', 'height']].mean()\n",
    "print(\"기온 그룹별 평균 몸무게와 키 :\")\n",
    "print(avg_by_temp_group)"
   ]
  }
 ],
 "metadata": {
  "kernelspec": {
   "display_name": "Python 3",
   "language": "python",
   "name": "python3"
  },
  "language_info": {
   "codemirror_mode": {
    "name": "ipython",
    "version": 3
   },
   "file_extension": ".py",
   "mimetype": "text/x-python",
   "name": "python",
   "nbconvert_exporter": "python",
   "pygments_lexer": "ipython3",
   "version": "3.10.11"
  }
 },
 "nbformat": 4,
 "nbformat_minor": 5
}
